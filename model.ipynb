{
 "cells": [
  {
   "cell_type": "markdown",
   "metadata": {},
   "source": [
    "!pip install torch==2.0.1 torchtext==0.15.2\n",
    "!pip install 'portalocker>=2.0.0'"
   ]
  },
  {
   "cell_type": "code",
   "execution_count": 2,
   "metadata": {},
   "outputs": [],
   "source": [
    "import torch\n",
    "import torch.nn as nn\n",
    "from torchtext import datasets\n",
    "from torchtext.data.utils import get_tokenizer\n",
    "from torchtext.vocab import build_vocab_from_iterator\n",
    "from torch.utils.data import DataLoader\n",
    "from functools import partial\n",
    "import random\n"
   ]
  },
  {
   "cell_type": "code",
   "execution_count": 3,
   "metadata": {},
   "outputs": [],
   "source": [
    "# Device configuration\n",
    "if torch.cuda.is_available():\n",
    "    print(\"hi\")\n",
    "    device = torch.device(type='cuda', index=0)\n",
    "else:\n",
    "    device = torch.device(type='cpu', index=0)"
   ]
  },
  {
   "cell_type": "code",
   "execution_count": null,
   "metadata": {},
   "outputs": [],
   "source": [
    "# Load dataset\n",
    "train_data = datasets.AG_NEWS(split='train')\n",
    "test_data = datasets.AG_NEWS(split='test')\n",
    "req_train_data = [text for _, text in train_data]\n",
    "req_test_data = [text for _, text in test_data]"
   ]
  },
  {
   "cell_type": "code",
   "execution_count": 5,
   "metadata": {},
   "outputs": [],
   "source": [
    "# Tokenization and vocabulary building\n",
    "tokenizer = get_tokenizer(\"basic_english\", language=\"en\")\n",
    "min_word_freq = 15\n",
    "\n",
    "def build_vocab(req_train_data, tokenizer):\n",
    "    vocab = build_vocab_from_iterator(\n",
    "        map(tokenizer, req_train_data),\n",
    "        specials=[\"<unk>\"],\n",
    "        min_freq=min_word_freq\n",
    "    )\n",
    "    vocab.set_default_index(vocab[\"<unk>\"])\n",
    "    return vocab\n",
    "\n",
    "vocab = build_vocab(req_train_data, tokenizer)\n",
    "vocab_size = len(vocab)\n",
    "window_size = 4\n",
    "max_norm = 1\n",
    "embed_dim = 300\n",
    "batch_size = 16\n",
    "num_neg_samples = 3\n",
    "text_pipeline = lambda x: [vocab[token] for token in tokenizer(x)]"
   ]
  },
  {
   "cell_type": "code",
   "execution_count": 6,
   "metadata": {},
   "outputs": [],
   "source": [
    "# Make skipgram input function\n",
    "def make_skipgram_input(batch, text_pipeline, num_neg_samples):\n",
    "    batch_input_word, batch_target_words, batch_labels = [], [], []\n",
    "    \n",
    "    for text in batch:\n",
    "        text_tokens = text_pipeline(text)\n",
    "        \n",
    "        if len(text_tokens) < (window_size * 2) + 1:\n",
    "            continue\n",
    "            \n",
    "        current_words = set(text_tokens)\n",
    "        negative_samples = [idx for idx in range(vocab_size) if idx not in current_words]\n",
    "        \n",
    "        for i in range(len(text_tokens) - window_size * 2):\n",
    "            input_word = text_tokens[i + window_size]\n",
    "            \n",
    "            for j in range(i, i + window_size):\n",
    "                batch_input_word.append(input_word)\n",
    "                batch_target_words.append(text_tokens[j])\n",
    "                batch_labels.append(1)\n",
    "                \n",
    "            for j in range(i + window_size + 1, i + (2 * window_size) + 1):\n",
    "                batch_input_word.append(input_word)\n",
    "                batch_target_words.append(text_tokens[j])\n",
    "                batch_labels.append(1)\n",
    "                \n",
    "            for _ in range(num_neg_samples):\n",
    "                batch_input_word.append(input_word)\n",
    "                batch_target_words.append(random.choice(negative_samples))\n",
    "                batch_labels.append(0)\n",
    "                \n",
    "    return torch.tensor(batch_input_word), torch.tensor(batch_target_words), torch.tensor(batch_labels)"
   ]
  },
  {
   "cell_type": "code",
   "execution_count": 7,
   "metadata": {},
   "outputs": [],
   "source": [
    "# DataLoader setup\n",
    "train_skipgram = DataLoader(\n",
    "    req_train_data,\n",
    "    batch_size=batch_size,\n",
    "    shuffle=True,\n",
    "    collate_fn=partial(make_skipgram_input, text_pipeline=text_pipeline, num_neg_samples=num_neg_samples)\n",
    ")\n",
    "\n",
    "test_skipgram = DataLoader(\n",
    "    req_test_data,\n",
    "    batch_size=batch_size,\n",
    "    shuffle=True,\n",
    "    collate_fn=partial(make_skipgram_input, text_pipeline=text_pipeline, num_neg_samples=num_neg_samples)\n",
    ")"
   ]
  },
  {
   "cell_type": "code",
   "execution_count": 8,
   "metadata": {},
   "outputs": [],
   "source": [
    "#Define model\n",
    "class NegSkipGram(nn.Module):\n",
    "    def __init__(self, vocab_size, embed_dim):\n",
    "        super().__init__()\n",
    "        self.embeddings = nn.Embedding(num_embeddings=vocab_size, embedding_dim=embed_dim, max_norm=max_norm)\n",
    "        self.linear = nn.Linear(in_features=embed_dim, out_features=vocab_size)\n",
    "    \n",
    "    def forward(self, input_words, target_words):\n",
    "        input_embeds = self.embeddings(input_words)\n",
    "        target_embeds = self.embeddings(target_words)\n",
    "        return torch.sum(input_embeds * target_embeds, dim=1)\n"
   ]
  },
  {
   "cell_type": "code",
   "execution_count": 9,
   "metadata": {},
   "outputs": [],
   "source": [
    "# Training function\n",
    "def train_one_epoch(model, dataloader, opt):\n",
    "    model.train()\n",
    "    running_loss = 0.0\n",
    "    \n",
    "    for i, (inputs, target, labels) in enumerate(dataloader):\n",
    "        inputs = inputs.to(device)\n",
    "        target = target.to(device)\n",
    "        labels = labels.float().to(device)\n",
    "        \n",
    "        opt.zero_grad()\n",
    "        \n",
    "        logits = model(inputs, target)\n",
    "        \n",
    "        # Calculate custom loss using logsigmoid\n",
    "        loss = -torch.mean(torch.nn.functional.logsigmoid(logits) * labels + \n",
    "                           torch.nn.functional.logsigmoid(-logits) * (1 - labels))\n",
    "        running_loss += loss.item()\n",
    "\n",
    "        loss.backward()\n",
    "        opt.step()\n",
    "\n",
    "    average_loss = running_loss / len(dataloader)\n",
    "    print(f'Average Loss: {average_loss:.4f}')"
   ]
  },
  {
   "cell_type": "code",
   "execution_count": 10,
   "metadata": {},
   "outputs": [],
   "source": [
    "# Setup for training\n",
    "n_epochs = 10\n",
    "model = NegSkipGram(vocab_size, embed_dim).to(device)\n",
    "opt = torch.optim.Adam(model.parameters(), lr=0.001)\n",
    "\n",
    "\n"
   ]
  },
  {
   "cell_type": "code",
   "execution_count": null,
   "metadata": {},
   "outputs": [],
   "source": [
    "# Training loop\n",
    "for e in range(n_epochs):\n",
    "    print(f\"Epoch {e + 1}/{n_epochs}\")\n",
    "    train_one_epoch(model, train_skipgram, opt)"
   ]
  }
 ],
 "metadata": {
  "kernelspec": {
   "display_name": "Python 3",
   "language": "python",
   "name": "python3"
  },
  "language_info": {
   "codemirror_mode": {
    "name": "ipython",
    "version": 3
   },
   "file_extension": ".py",
   "mimetype": "text/x-python",
   "name": "python",
   "nbconvert_exporter": "python",
   "pygments_lexer": "ipython3",
   "version": "3.12.3"
  }
 },
 "nbformat": 4,
 "nbformat_minor": 2
}
